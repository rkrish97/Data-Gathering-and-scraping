{
  "nbformat": 4,
  "nbformat_minor": 0,
  "metadata": {
    "colab": {
      "name": "homework_1_ecs_189l.ipynb",
      "provenance": [],
      "collapsed_sections": []
    },
    "kernelspec": {
      "name": "python3",
      "display_name": "Python 3"
    }
  },
  "cells": [
    {
      "cell_type": "markdown",
      "metadata": {
        "id": "MKUGHJ0mSyU9"
      },
      "source": [
        "**Hoomework 1 Starter**"
      ]
    },
    {
      "cell_type": "markdown",
      "metadata": {
        "id": "hkOoVdQtwHMs"
      },
      "source": [
        "1. IMDB Scraping"
      ]
    },
    {
      "cell_type": "code",
      "metadata": {
        "id": "81BEDs7ATSSF"
      },
      "source": [
        "from bs4 import BeautifulSoup\n",
        "import requests\n",
        "import pandas as pd\n",
        "import matplotlib.pyplot as plt"
      ],
      "execution_count": null,
      "outputs": []
    },
    {
      "cell_type": "markdown",
      "metadata": {
        "id": "SM1Dw8-asdI4"
      },
      "source": [
        "Write a function that takes a BeautifulSoup table of movies and parses out the movie attributes."
      ]
    },
    {
      "cell_type": "code",
      "metadata": {
        "id": "j5QcaDcCsCMW"
      },
      "source": [
        "def getMovieResultsFromPage(table, movies):\n",
        "  for rowRaw in table.find_all('div', class_='lister-item mode-detail'):\n",
        "    row = rowRaw.find('div', class_='lister-item-content')\n",
        "    row2 = row.find_all('p', class_ = 'text-muted text-small')\n",
        "    head = rowRaw.find('h3', class_='lister-item-header')\n",
        "    name = head.find('a').text\n",
        "    year = head.find('span', class_='lister-item-year text-muted unbold').text\n",
        "    year = year[1:-1]\n",
        "    if len(year)>4:\n",
        "      year=year[-4:]\n",
        "    rate1 = row.find('div', class_='ipl-rating-widget')\n",
        "    rate2 = rate1.find('div', class_='ipl-rating-star small')\n",
        "    rating = rate2.find('span',class_='ipl-rating-star__rating').text\n",
        "    run1 = row.find('p', class_ = 'text-muted text-small')\n",
        "    run = row2[0].find('span',class_='runtime').text\n",
        "    votes1 = row2[2].find_all('span')\n",
        "    votes = votes1[1].get('data-value')\n",
        "    genre = row2[0].find('span',class_='genre').text\n",
        "    genre = genre[1:].split()\n",
        "    if len(genre)>1:\n",
        "      genre = genre[0][:-1]\n",
        "    else:\n",
        "      genre = genre[0]\n",
        "    dir = row2[1].find('a').text\n",
        "    movies['Name'].append(name)\n",
        "    movies['Year'].append(year)\n",
        "    movies['Rating'].append(rating)\n",
        "    movies['RunTime'].append(run)\n",
        "    movies['Votes'].append(votes)\n",
        "    movies['Genre'].append(genre)\n",
        "    movies['Director'].append(dir)"
      ],
      "execution_count": null,
      "outputs": []
    },
    {
      "cell_type": "markdown",
      "metadata": {
        "id": "oHFPsdv7s1KL"
      },
      "source": [
        "You'll need somewhere to store the movies"
      ]
    },
    {
      "cell_type": "code",
      "metadata": {
        "id": "i9FkUWwjtJ-M"
      },
      "source": [
        "movies = {'Name':[],\n",
        "          'Rating':[],\n",
        "          'Year':[],\n",
        "          'RunTime':[],\n",
        "          'Votes':[],\n",
        "          'Genre':[],\n",
        "          'Director':[]}"
      ],
      "execution_count": null,
      "outputs": []
    },
    {
      "cell_type": "markdown",
      "metadata": {
        "id": "yfWF1Ixotz5j"
      },
      "source": [
        "Next, process the html pages using BeautifulSoup, and create a table with all movies."
      ]
    },
    {
      "cell_type": "code",
      "metadata": {
        "id": "s_NGB2Bbp-tp"
      },
      "source": [
        "headers = {\"Accept-Language\": \"en-US,en;q=0.5\"}\n",
        "for i in range(1,4):\n",
        "  source = requests.get('https://www.imdb.com/list/ls068082370/?sort=list_order,asc&st_dt=&mode=detail&page='+str(i), headers= headers).text\n",
        "  soup = BeautifulSoup(source, 'lxml')\n",
        "  table = soup.find('div', class_='lister-list')\n",
        "  getMovieResultsFromPage(table, movies)"
      ],
      "execution_count": null,
      "outputs": []
    },
    {
      "cell_type": "code",
      "metadata": {
        "id": "fVHQ2UMq60YF"
      },
      "source": [
        "df = pd.DataFrame(movies, columns = ['Name', 'Rating', 'Year', 'RunTime', 'Votes', 'Genre', 'Director'])\n",
        "convert = {'Name':str, 'Rating':float, 'Year':int, 'RunTime':str, 'Votes':int, 'Genre':str, 'Director':str}\n",
        "df = df.astype(convert)"
      ],
      "execution_count": null,
      "outputs": []
    },
    {
      "cell_type": "code",
      "metadata": {
        "id": "WBP67Xvx6_94",
        "colab": {
          "base_uri": "https://localhost:8080/",
          "height": 50
        },
        "outputId": "2c985af9-7f93-4e95-f7d0-ea3296cb6b20"
      },
      "source": [
        "print(\"Movie with the most number of votes: \"+df[df.Votes==df.Votes.max()].Name.values[0])\n",
        "print(\"Movie with the least number of votes: \"+df[df.Votes==df.Votes.min()].Name.values[0])"
      ],
      "execution_count": null,
      "outputs": [
        {
          "output_type": "stream",
          "text": [
            "Movie with the most number of votes: The Shawshank Redemption\n",
            "Movie with the least number of votes: Zulu\n"
          ],
          "name": "stdout"
        }
      ]
    },
    {
      "cell_type": "code",
      "metadata": {
        "id": "lMKUTCfz9_op",
        "colab": {
          "base_uri": "https://localhost:8080/",
          "height": 656
        },
        "outputId": "5f438da0-cbcf-406d-ebb0-678c917ca576"
      },
      "source": [
        "df2 = list(df.groupby(['Genre']).size())\n",
        "df3 = sorted(df.Genre.unique())\n",
        "figure = plt.figure()\n",
        "axes = figure.add_axes([0,0,2,2])\n",
        "axes.bar(df3,df2)\n",
        "plt.xlabel('Movie Genre')\n",
        "plt.ylabel('Movie Count')\n",
        "m = max(df2)\n",
        "ind = df2.index(m)\n",
        "print(\"Genre with the most number of movies: \" + str(df3[ind]))"
      ],
      "execution_count": null,
      "outputs": [
        {
          "output_type": "stream",
          "text": [
            "Genre with the most number of movies: Drama\n"
          ],
          "name": "stdout"
        },
        {
          "output_type": "display_data",
          "data": {
            "image/png": "[encoded data removed]",
            "text/plain": [
              "<Figure size 432x288 with 1 Axes>"
            ]
          },
          "metadata": {
            "tags": [],
            "needs_background": "light"
          }
        }
      ]
    },
    {
      "cell_type": "code",
      "metadata": {
        "id": "8gItmt1h_PJG",
        "colab": {
          "base_uri": "https://localhost:8080/",
          "height": 50
        },
        "outputId": "310a0388-98ca-406b-87c6-e9ac5a560a65"
      },
      "source": [
        "df4 = list(df.groupby('Director').size())\n",
        "df5 = sorted(df.Director.unique())\n",
        "df6 = sorted(zip(df4,df5))[::-1]\n",
        "ans = [x for _,x in df6[:5]]\n",
        "print(\"Top 5 directors with the most number of movies: \")\n",
        "print(ans)"
      ],
      "execution_count": null,
      "outputs": [
        {
          "output_type": "stream",
          "text": [
            "Top 5 directors with the most number of movies: \n",
            "['Steven Spielberg', 'Stanley Kubrick', 'Martin Scorsese', 'Christopher Nolan', 'Alfred Hitchcock']\n"
          ],
          "name": "stdout"
        }
      ]
    },
    {
      "cell_type": "markdown",
      "metadata": {
        "id": "CiufGYiKvwvZ"
      },
      "source": [
        "2. Severe Storms with Google BigQuery\n",
        " "
      ]
    },
    {
      "cell_type": "code",
      "metadata": {
        "id": "KF8JM4NJwOLK",
        "colab": {
          "base_uri": "https://localhost:8080/",
          "height": 33
        },
        "outputId": "6dbe6e5f-1466-46f6-dbc9-898e9f893fe8"
      },
      "source": [
        "from google.colab import auth\n",
        "auth.authenticate_user()\n",
        "print('Authenticated')"
      ],
      "execution_count": null,
      "outputs": [
        {
          "output_type": "stream",
          "text": [
            "Authenticated\n"
          ],
          "name": "stdout"
        }
      ]
    },
    {
      "cell_type": "markdown",
      "metadata": {
        "id": "sDvSGo7xwvOA"
      },
      "source": [
        "2. Declare the Cloud project ID which will be used throughout this notebook. You need to login your BigQuery to find out your own project id and paste it below."
      ]
    },
    {
      "cell_type": "code",
      "metadata": {
        "id": "oR23aYTCwwR3"
      },
      "source": [
        "# For example mine is test-project-ecs189l, so I will run project_id = 'test-project-ecs189l'\n",
        "# project_id = 'Paste Your Project ID here to Replace This String'\n",
        "project_id = 'cogent-tract-278801'"
      ],
      "execution_count": null,
      "outputs": []
    },
    {
      "cell_type": "markdown",
      "metadata": {
        "id": "2lRZPN3Nw5fL"
      },
      "source": [
        "Read the database into a data frame"
      ]
    },
    {
      "cell_type": "code",
      "metadata": {
        "id": "ioWmmLERw6VL"
      },
      "source": [
        "df = pd.io.gbq.read_gbq('''SELECT\n",
        "  LOWER(event_type) as event_type,\n",
        "  COUNT(event_id) as count_storms\n",
        "FROM\n",
        "  `bigquery-public-data.noaa_historic_severe_storms.storms_*`\n",
        "WHERE _TABLE_SUFFIX BETWEEN '1950' AND '2000' GROUP BY event_type ORDER BY count_storms desc''', project_id)"
      ],
      "execution_count": null,
      "outputs": []
    },
    {
      "cell_type": "code",
      "metadata": {
        "id": "lFMxUTrExuSz",
        "colab": {
          "base_uri": "https://localhost:8080/",
          "height": 719
        },
        "outputId": "3408ffb2-fbdf-40fc-b88a-f64e146b88ec"
      },
      "source": [
        "df2 = df[0:40].event_type\n",
        "print(df2)\n",
        "print(\"The Top Event Type is \"+str(df2[0]))"
      ],
      "execution_count": null,
      "outputs": [
        {
          "output_type": "stream",
          "text": [
            "0           thunderstorm wind\n",
            "1                        hail\n",
            "2                     tornado\n",
            "3                  heavy snow\n",
            "4                 flash flood\n",
            "5                winter storm\n",
            "6                   high wind\n",
            "7                       flood\n",
            "8                     drought\n",
            "9             cold/wind chill\n",
            "10                       heat\n",
            "11                  lightning\n",
            "12             winter weather\n",
            "13                  ice storm\n",
            "14                 heavy rain\n",
            "15                   blizzard\n",
            "16                strong wind\n",
            "17                  dense fog\n",
            "18               funnel cloud\n",
            "19    extreme cold/wind chill\n",
            "20                  high surf\n",
            "21                 waterspout\n",
            "22                   wildfire\n",
            "23        hurricane (typhoon)\n",
            "24               frost/freeze\n",
            "25              coastal flood\n",
            "26             excessive heat\n",
            "27             tropical storm\n",
            "28                rip current\n",
            "29                      sleet\n",
            "30           lake-effect snow\n",
            "31           storm surge/tide\n",
            "32                  avalanche\n",
            "33                 dust storm\n",
            "34                debris flow\n",
            "35               freezing fog\n",
            "36                 dust devil\n",
            "37                     seiche\n",
            "38      astronomical low tide\n",
            "39               volcanic ash\n",
            "Name: event_type, dtype: object\n",
            "The Top Event Type is thunderstorm wind\n"
          ],
          "name": "stdout"
        }
      ]
    },
    {
      "cell_type": "code",
      "metadata": {
        "id": "I1EBR8ytxuk5"
      },
      "source": [
        "df3 = pd.io.gbq.read_gbq('''SELECT\n",
        "  event_begin_time as date,\n",
        "  LOWER(event_type) as event_type\n",
        "FROM\n",
        "  `bigquery-public-data.noaa_historic_severe_storms.storms_*`\n",
        "WHERE _TABLE_SUFFIX BETWEEN '1950' AND '2000' AND event_type=\"tornado\" ORDER BY date''', project_id)\n",
        "\n",
        "df3['Year'] = pd.DatetimeIndex(df3['date']).year\n"
      ],
      "execution_count": null,
      "outputs": []
    },
    {
      "cell_type": "code",
      "metadata": {
        "id": "AFiDb-Uhxt99",
        "colab": {
          "base_uri": "https://localhost:8080/",
          "height": 654
        },
        "outputId": "87c8727a-6702-4ab0-b557-8f7ed034830b"
      },
      "source": [
        "df4 = list(df3.groupby(['Year']).size())\n",
        "tot = 0\n",
        "arr=[]\n",
        "for i in range(len(df4)):\n",
        "  tot = tot+df4[i]\n",
        "  if (i+1)%10==0:\n",
        "    arr.append(tot)\n",
        "    tot=0\n",
        "figure = plt.figure()\n",
        "axes = figure.add_axes([0,0,2,2])\n",
        "axes.bar(['1950s','1960s','1970s','1980s','1990s'],arr)\n",
        "plt.xlabel('Decade')\n",
        "plt.ylabel('Number of Tornados')"
      ],
      "execution_count": null,
      "outputs": [
        {
          "output_type": "execute_result",
          "data": {
            "text/plain": [
              "Text(0, 0.5, 'Number of Tornados')"
            ]
          },
          "metadata": {
            "tags": []
          },
          "execution_count": 31
        },
        {
          "output_type": "display_data",
          "data": {
            "image/png": "[encoded data removed]",
            "text/plain": [
              "<Figure size 432x288 with 1 Axes>"
            ]
          },
          "metadata": {
            "tags": [],
            "needs_background": "light"
          }
        }
      ]
    },
    {
      "cell_type": "markdown",
      "metadata": {
        "id": "q8kuCdEux9lq"
      },
      "source": [
        "3. 2020 Election Polls\n",
        "\n",
        "You are on your own here. Here are some suggestions:\n",
        "\n",
        "* Identify and download the file you need from the web site\n",
        "* Store the file in a data frame\n",
        "* Answer the two questions"
      ]
    },
    {
      "cell_type": "code",
      "metadata": {
        "id": "htRLke8FYMt-",
        "colab": {
          "base_uri": "https://localhost:8080/",
          "height": 420
        },
        "outputId": "d0926b28-24bb-4c05-8ca0-fb35a17ce3bc"
      },
      "source": [
        "polls = pd.read_csv('/content/president_primary_polls.csv',low_memory=False)\n",
        "number = polls.candidate_name.unique()\n",
        "number = len(number)\n",
        "print(\"Number of unique presidential candidates: \"+str(number))"
      ],
      "execution_count": null,
      "outputs": [
        {
          
        }
      ]
    },
    {
      "cell_type": "code",
      "metadata": {
        "id": "vDd_Om4BZMpj"
      },
      "source": [
        "print(\"Average sample size in national polls in 2020: \"+str(polls.mean(axis=0,skipna=True).sample_size))"
      ],
      "execution_count": null,
      "outputs": []
    }
  ]
}
